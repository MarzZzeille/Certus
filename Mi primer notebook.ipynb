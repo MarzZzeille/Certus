{
 "cells": [
  {
   "cell_type": "markdown",
   "id": "c13535a1",
   "metadata": {},
   "source": [
    "# Mi primer notebook\n",
    "Yo Espinoza Arellano presento mi primer notebook\n"
   ]
  },
  {
   "cell_type": "code",
   "execution_count": 8,
   "id": "2a95bee6",
   "metadata": {
    "scrolled": true
   },
   "outputs": [
    {
     "name": "stdout",
     "output_type": "stream",
     "text": [
      "Hello word\n"
     ]
    }
   ],
   "source": [
    "print(\"Hello word\")"
   ]
  }
 ],
 "metadata": {
  "kernelspec": {
   "display_name": "Python 3 (ipykernel)",
   "language": "python",
   "name": "python3"
  },
  "language_info": {
   "codemirror_mode": {
    "name": "ipython",
    "version": 3
   },
   "file_extension": ".py",
   "mimetype": "text/x-python",
   "name": "python",
   "nbconvert_exporter": "python",
   "pygments_lexer": "ipython3",
   "version": "3.8.6"
  }
 },
 "nbformat": 4,
 "nbformat_minor": 5
}
